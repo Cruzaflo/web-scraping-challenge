{
 "cells": [
  {
   "cell_type": "code",
   "execution_count": null,
   "metadata": {},
   "outputs": [],
   "source": [
    "from flask import Flask, render_template, redirect\n",
    "from flask_pymongo import PyMongo\n",
    "import requests\n",
    "import scrape_mars\n",
    "\n",
    "app = Flask(__name__)\n",
    "\n",
    "mongo = PyMongo(app, uri = \"mongodb://localhost:27017/scrape_mars\")\n",
    "\n",
    "@app.route(\"/\")\n",
    "def home():\n",
    "    mars_data = mongo.db.collection.find_one()\n",
    "    return render_template(\"index.html\", mars_data = mars_data1)\n",
    "\n",
    "@app.route(\"/scrape\")\n",
    "def scrape():\n",
    "    scraped_data = scrape_mars.scrape_all()\n",
    "    mongo.db.collection.update({}, scraped_data, upsert=True)\n",
    "    return redirect(\"/\")\n",
    "    \n",
    "if __name__ == \"__main__\":\n",
    "    app.run(debug=True)"
   ]
  },
  {
   "cell_type": "code",
   "execution_count": null,
   "metadata": {},
   "outputs": [],
   "source": []
  }
 ],
 "metadata": {
  "kernelspec": {
   "display_name": "Python 3",
   "language": "python",
   "name": "python3"
  },
  "language_info": {
   "codemirror_mode": {
    "name": "ipython",
    "version": 3
   },
   "file_extension": ".py",
   "mimetype": "text/x-python",
   "name": "python",
   "nbconvert_exporter": "python",
   "pygments_lexer": "ipython3",
   "version": "3.7.6"
  }
 },
 "nbformat": 4,
 "nbformat_minor": 4
}
